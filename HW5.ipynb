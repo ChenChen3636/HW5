{
 "cells": [
  {
   "cell_type": "code",
   "execution_count": 1,
   "metadata": {},
   "outputs": [],
   "source": [
    "import json\n",
    "from tensorflow.keras import optimizers\n",
    "import numpy as np"
   ]
  },
  {
   "cell_type": "code",
   "execution_count": 2,
   "metadata": {},
   "outputs": [
    {
     "name": "stdout",
     "output_type": "stream",
     "text": [
      "英文數據:\n",
      " ['Look at these coasters over here.', 'Choose a recorder.', \"I hadn't paid the telephone bill.\", \"That's easier said than done, of course.\", 'Side-to-Side Movements.', 'about like 80 degrees.', 'We all are from Shandong.', 'She was possessed by a devil.', 'This wool knits up well.', 'The majority was wrong last time.', 'Stone Soup Stories to Go!', 'Done. See you tomorrow.', 'He eased some of the strains on the poor.', 'Could it be that it was written wrongly?', 'What a terrible temper!', 'Great talents flower late.', 'I forbid you to make a sortie today.', 'C：My surname is Jiang.', 'Well, if it was greater .', 'They looked over to the left.', 'To supervise the management of printing industry.', 'no one else can see you shake your head.', 'All photos dials.', 'Stained glass window panels;', 'The murderer was caught red-handed.', 'You don’t love Melanie.', 'His style is very lucid .', 'At this time, there was a male cat.', 'The truth has leaked out.', 'Material evidence must also be original.', 'The brother and sister quickly ran.', 'The ship doubled Cape Horn .', 'Consider your audience.', 'Two times five is ten.', 'Erhai Lake （in Yunnan Province）', 'He is a junior it?', 'I locked all the doors.', 'Problems, if any, should be solved without delay.', 'This is a big deal!', 'I need some water to quench .', 'Helen:Hot springs in Iceland?', 'Which hole is this?', 'The producer was Lawan Davis.', 'Cuddle with your kids.', 'It included in it thousands of brackets.', 'Deals for approval by admin.', 'Um, not so good.', 'Can ferrets get fleas?', 'F: Lubanga is in The Hague.', 'No definite article.', 'You shit to wear underpants!', 'Have you got some unfinished business?', 'In Australia, this variety is called \"Traminer\".', 'Gwyn: Let me take a look.', 'I love the subject.', 'It strikes one as very strange.', \"It's simple: just ignore floaters .\", 'To adjust flag-down price.', 'A cold wind was blowing from the north.', 'They live in the oceans.', 'My head is still paining me.', 'That is just a jok.', 'Snap placket over zip front.', 'Where is my bus?', \"I am going to call this one. Let's see.\", 'But the little prince made no reply.', \"Edward: That's true love.\", 'Living things depend on the sunlight.', 'He was tried for murder.', 'All casing concrete pile?', 'Did I divide right?', 'Should I go up to the rooftop?', 'The girl threaded the needle for her mother.', 'You sexy thang.', \"Iuml; 'll show you.\", 'But growing numbers moved west.', 'Drury officials said they …', 'Then I understood.', 'My sister-in-law is pregnant.', 'How do you like rabbit?', 'Your soup and vegetables.', 'Have kids later.', 'This is the world called \"Da-Tong (Dah-Torng)\".', 'Is that a real string of pearls？', 'We have bow thruster .', \"Yeah. -That's right.\", 'I promise\".', 'It was abridged from the original work.', 'It is a jiffy after three.', 'Ask you how much sorrows can there be?', 'The large print makes for  easier reading.', 'On the third floor they are selling linens.', 'Grain size analysis?', 'Eagles fly alone,but sheep flock together.', 'You are bound to vacillate at times .', 'No poet can poet it.', 'I will apprise you of the situation .', 'Button thread easily pulled out.', \"You've crossed a line.\", 'All was quiet and not a soul was to be seen.']\n",
      "\n",
      "中文數據:\n",
      " ['@看看这边的杯垫。。', '@选择一个记录员.。', '@我还没交电话费。。', '@当然，知易行难。。', '@侧向运动。。', '@大概华氏80度吧。。', '@俺都是山东人。。', '@她着了魔。。', '@这种毛线很好织。。', '@方是错的。。', '@石头汤（故事去！）。', '@一言为定。明天见！。', '@缓解了穷人的压力。。', '@莫非写错了?。', '@脾气真够坏的！。', '@大器晚成。。', '@你今天不许出击。。', '@C：我姓姜。。', '@如果拉力很大。', '@她们朝左边看。。', '@监督管理印刷业。。', '@没人看的见你摇头。。', '@所有照片刻盘。。', '@彩色玻璃窗板；。', '@凶犯当场被抓住。。', '@你是不爱梅兰妮的。。', '@他的文体很明畅。。', '@这次是一只小公猫。。', '@事实真相已泄露。。', '@物证应当提交原物。。', '@兄妹俩快步的跑着。。', '@那船绕过合恩角。。', '@考虑你的听众。。', '@二乘五等于一十。。', '@洱海。', '@他是一个初中生吗？。', '@我锁好了所有的门。。', '@有问题要及时解决。。', '@这可是件大事儿啊！。', '@我想要些水解渴。。', '@海伦：冰岛有温泉？。', '@这是几杆洞？。', '@生产者蜡丸戴维斯。。', '@拥抱你的孩子。。', '@里面有上千个托座。。', '@交易由管理员批准。。', '@嗯，这并不太妙。。', '@雪貂会不会生跳蚤？。', '@F：在海牙。。', '@没有定冠词。。', '@你丫拉屎穿裤衩呀！。', '@你还有未竟的事业？。', '@在澳洲也称塔明那。。', '@格温：让我来看看。。', '@我喜欢这个主题。。', '@深以为异。。', '@很简单，无视飞蚊。。', '@调整起步价。。', '@寒风自北吹来。。', '@它们生活在海洋中。。', '@我的头还在疼。。', '@那不过是个笑话。。', '@门襟拉链扣在前面。。', '@我的巴士在哪里？。', '@这一步为步骤。。', '@小王子没有回答。。', '@爱德华：那是真爱。。', '@生物对阳光有依赖。。', '@他因谋杀罪而受审。。', '@全套管基桩?。。', '@我算得对吗。', '@我应该到屋顶上吗？。', '@女孩为妈妈穿针。。', '@你这性感的家伙。。', '@我给你指路。。', '@但越来越多的西移。。', '@象官员说，他们…。', '@然后，我明白了。。', '@我嫂嫂怀孕了。。', '@你喜欢兔肉吗？。', '@你的汤及蔬菜。。', '@迟点生小孩。。', '@这便是大同世界。。', '@那串珍珠是真的吗？。', '@我们船有艏侧推器。。', '@哈，是的，-对对。。', '@我保证。。', '@它由原著缩节而成。。', '@今朝是三点过几分。。', '@问君能有几多愁？。', '@大号字体好读一些。。', '@四楼在卖亚麻布单。。', '@粒径分析?。。', '@鹰爱独飞羊爱群。。', '@有时你一定会犹豫…。', '@没有诗人可以抒怀。。', '@我将把情况告知你。。', '@钉钮线容易拉脱。。', '@你已经越线了。。', '@阒无一人。。']\n",
      "\n",
      "英文字典:\n",
      " {'c': 0, 'u': 1, '0': 2, 'k': 3, '?': 4, 'E': 5, '.': 6, 'r': 7, 'n': 8, 'f': 9, '-': 10, '（': 11, 'I': 12, ':': 13, 'J': 14, 'w': 15, 'i': 16, 'y': 17, '(': 18, '\"': 19, 'S': 20, 'L': 21, '…': 22, 'q': 23, 'j': 24, 'o': 25, 'b': 26, 'g': 27, 'Y': 28, '’': 29, 'd': 30, 'H': 31, ')': 32, 'a': 33, 'e': 34, 'W': 35, 'A': 36, ' ': 37, '：': 38, 'O': 39, ';': 40, 'D': 41, 'v': 42, 'T': 43, 'P': 44, 'z': 45, 'G': 46, 'l': 47, ',': 48, '!': 49, '？': 50, '）': 51, 'p': 52, 'C': 53, 'U': 54, 'h': 55, 's': 56, 'M': 57, 't': 58, \"'\": 59, 'm': 60, 'F': 61, 'N': 62, 'x': 63, 'B': 64, '8': 65}\n",
      "\n",
      "中文字典共計\n",
      ": {'全': 0, '刷': 1, '越': 2, '对': 3, '座': 4, '照': 5, '印': 6, '脱': 7, '场': 8, '犯': 9, '业': 10, '虑': 11, '愁': 12, '好': 13, '去': 14, '赖': 15, '兔': 16, '公': 17, '前': 18, '调': 19, '会': 20, '为': 21, '泄': 22, '温': 23, '恩': 24, '梅': 25, '审': 26, '生': 27, '阳': 28, '我': 29, '窗': 30, '貂': 31, '深': 32, '路': 33, '初': 34, '者': 35, '呀': 36, '得': 37, '巴': 38, '盘': 39, '吹': 40, '毛': 41, '蚤': 42, 'F': 43, '泉': 44, '员': 45, '后': 46, '器': 47, '价': 48, '言': 49, '未': 50, '性': 51, '原': 52, '嗯': 53, '析': 54, '但': 55, '群': 56, '以': 57, '视': 58, '笑': 59, '件': 60, '并': 61, '家': 62, '岛': 63, '俩': 64, '小': 65, '起': 66, '时': 67, '?': 68, '很': 69, '氏': 70, '啊': 71, '著': 72, '织': 73, '够': 74, '可': 75, '及': 76, '针': 77, '提': 78, '多': 79, '众': 80, '在': 81, '犹': 82, '过': 83, '缩': 84, '将': 85, '：': 86, '已': 87, '君': 88, '片': 89, '屎': 90, '答': 91, '妈': 92, '看': 93, '难': 94, '天': 95, '于': 96, '的': 97, '朝': 98, '压': 99, '人': 100, '依': 101, '称': 102, '解': 103, '抱': 104, '0': 105, '格': 106, '能': 107, '卖': 108, '畅': 109, '度': 110, '被': 111, '跳': 112, '伦': 113, '王': 114, '蔬': 115, '欢': 116, '缓': 117, '羊': 118, '单': 119, '襟': 120, '种': 121, '保': 122, '等': 123, '基': 124, '经': 125, '风': 126, '向': 127, '不': 128, '爱': 129, '塔': 130, '拥': 131, '拉': 132, '问': 133, '这': 134, '光': 135, '左': 136, '由': 137, '粒': 138, '来': 139, '串': 140, '楼': 141, '事': 142, '板': 143, '易': 144, '华': 145, '行': 146, '词': 147, '；': 148, '要': 149, '抓': 150, '布': 151, '肉': 152, '交': 153, '，': 154, '便': 155, '费': 156, '世': 157, '电': 158, '还': 159, '明': 160, '晚': 161, '摇': 162, '无': 163, '戴': 164, '妹': 165, '感': 166, '裤': 167, '况': 168, '击': 169, '错': 170, '吗': 171, '罪': 172, '告': 173, '海': 174, '住': 175, '嫂': 176, '四': 177, '西': 178, '到': 179, '那': 180, '知': 181, '疼': 182, '.': 183, '魔': 184, '蜡': 185, '把': 186, '话': 187, '三': 188, '成': 189, '主': 190, '兄': 191, '杀': 192, '跑': 193, '们': 194, '产': 195, '怀': 196, '听': 197, '体': 198, '了': 199, '十': 200, '监': 201, '所': 202, '想': 203, '大': 204, '穷': 205, '上': 206, '读': 207, '子': 208, '俺': 209, '莫': 210, '洞': 211, '定': 212, '异': 213, '字': 214, '合': 215, '该': 216, '东': 217, '脾': 218, '物': 219, '容': 220, '径': 221, '乘': 222, '因': 223, '如': 224, '儿': 225, '步': 226, '一': 227, '然': 228, '洱': 229, '北': 230, '动': 231, '界': 232, '当': 233, '刻': 234, '着': 235, '非': 236, '@': 237, '移': 238, '吧': 239, '屋': 240, '指': 241, '士': 242, '哪': 243, '骤': 244, 'C': 245, '顶': 246, '让': 247, '二': 248, '没': 249, '概': 250, '气': 251, '里': 252, '个': 253, '山': 254, '船': 255, '钮': 256, '理': 257, '你': 258, '寒': 259, '是': 260, '珍': 261, '喜': 262, '迟': 263, '官': 264, '它': 265, '钉': 266, '汤': 267, '准': 268, '活': 269, '洋': 270, '孕': 271, '同': 272, '今': 273, '太': 274, '（': 275, '边': 276, '整': 277, '链': 278, '简': 279, '线': 280, '穿': 281, '都': 282, '白': 283, '玻': 284, '写': 285, '坏': 286, '只': 287, '兰': 288, '澳': 289, '孩': 290, '垫': 291, '推': 292, '桩': 293, '择': 294, '头': 295, '证': 296, '蚊': 297, '回': 298, '故': 299, '说': 300, '麻': 301, '管': 302, '维': 303, '璃': 304, '杆': 305, '锁': 306, '丫': 307, '斯': 308, '珠': 309, '情': 310, '运': 311, '中': 312, '女': 313, '相': 314, '题': 315, '真': 316, '决': 317, '分': 318, '督': 319, '德': 320, '渴': 321, '给': 322, '几': 323, '他': 324, '实': 325, '菜': 326, '算': 327, '托': 328, '洲': 329, '露': 330, '象': 331, '冰': 332, '些': 333, '诗': 334, '衩': 335, '哈': 336, '亚': 337, '录': 338, '方': 339, '豫': 340, '水': 341, '也': 342, '姓': 343, '应': 344, '而': 345, '石': 346, '-': 347, '侧': 348, '套': 349, '彩': 350, '许': 351, '五': 352, '…': 353, '点': 354, '次': 355, '阒': 356, '选': 357, '号': 358, '飞': 359, '文': 360, '凶': 361, '节': 362, '色': 363, '有': 364, '绕': 365, '？': 366, '）': 367, '抒': 368, '千': 369, '她': 370, '冠': 371, '姜': 372, '考': 373, '力': 374, '！': 375, '出': 376, '面': 377, '牙': 378, '批': 379, '杯': 380, '猫': 381, '雪': 382, '果': 383, '妙': 384, '快': 385, '伙': 386, '门': 387, '谋': 388, '竟': 389, '记': 390, '角': 391, '。': 392, '独': 393, '见': 394, '艏': 395, '鹰': 396, '受': 397, '妮': 398, '丸': 399, '扣': 400, '自': 401, '8': 402}\n"
     ]
    }
   ],
   "source": [
    "data = []\n",
    "endata = []\n",
    "chdata = []\n",
    "\n",
    "def chine(string):\n",
    "    for ch in string :\n",
    "        if u'\\u4e00' <= ch <= u'\\u9fff':\n",
    "            return True\n",
    "    return False\n",
    "\n",
    "for line in open('data.json', 'r', encoding='utf-8'):\n",
    "    data.append(json.loads(line))  \n",
    "\n",
    "\n",
    "for i in range(len(data)):\n",
    "    if chine(data[i]['chinese']) == True :\n",
    "        if len(data[i]['chinese']) < 10:\n",
    "            endata.append(data[i]['english'])\n",
    "            chdata.append('@'+data[i]['chinese']+'。')\n",
    "        if len(chdata) == 100 :\n",
    "            break\n",
    "\n",
    "en_vocab = set(''.join(endata))\n",
    "id2en = list(en_vocab)\n",
    "en2id = {c:i for i,c in enumerate(id2en)}\n",
    "\n",
    "# 分別生成中英文字典\n",
    "ch_vocab = set(''.join(chdata))\n",
    "id2ch = list(ch_vocab)\n",
    "ch2id = {c:i for i,c in enumerate(id2ch)}\n",
    "\n",
    "print('英文數據:\\n', endata)\n",
    "print('\\n中文數據:\\n', chdata)\n",
    "print('\\n英文字典:\\n', en2id)\n",
    "print('\\n中文字典共計\\n:', ch2id)\n",
    "\n",
    "\n",
    "# en_vocab = set(''.join(endata))\n",
    "# id2en = list(en_vocab)\n",
    "# en2id = {c:i for i,c in enumerate(id2en)}"
   ]
  },
  {
   "cell_type": "code",
   "execution_count": null,
   "metadata": {},
   "outputs": [],
   "source": []
  }
 ],
 "metadata": {
  "kernelspec": {
   "display_name": "Python 3",
   "language": "python",
   "name": "python3"
  },
  "language_info": {
   "codemirror_mode": {
    "name": "ipython",
    "version": 3
   },
   "file_extension": ".py",
   "mimetype": "text/x-python",
   "name": "python",
   "nbconvert_exporter": "python",
   "pygments_lexer": "ipython3",
   "version": "3.7.6"
  }
 },
 "nbformat": 4,
 "nbformat_minor": 4
}

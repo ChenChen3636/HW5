{
 "cells": [
  {
   "cell_type": "code",
   "execution_count": 1,
   "metadata": {},
   "outputs": [],
   "source": [
    "import json\n",
    "from tensorflow.keras import optimizers\n",
    "import numpy as np"
   ]
  },
  {
   "cell_type": "code",
   "execution_count": null,
   "metadata": {},
   "outputs": [],
   "source": [
    "data = []\n",
    "endata = []\n",
    "chdata = []\n",
    "\n",
    "def chine(string):\n",
    "    for ch in string :\n",
    "        if u'\\u4e00' <= ch <= u'\\u9fff':\n",
    "            return True\n",
    "    return False\n",
    "\n",
    "for line in open('train.json', 'r', encoding='utf-8'):\n",
    "    data.append(json.loads(line))  \n",
    "\n",
    "\n",
    "print('----------')\n",
    "\n",
    "for i in range(len(data)):\n",
    "    if chine(data[i]['chinese']) == True :\n",
    "        if len(data[i]['chinese']) < 10:\n",
    "            endata.append(data[i]['english'])\n",
    "            chdata.append('@'+data[i]['chinese']+'。')\n",
    "        if len(chdata) == 100 :\n",
    "            break\n",
    "\n",
    "en_vocab = set(''.join(endata))\n",
    "id2en = list(en_vocab)\n",
    "en2id = {c:i for i,c in enumerate(id2en)}\n",
    "\n",
    "# 分別生成中英文字典\n",
    "ch_vocab = set(''.join(chdata))\n",
    "id2ch = list(ch_vocab)\n",
    "ch2id = {c:i for i,c in enumerate(id2ch)}\n",
    "\n",
    "print('英文數據:\\n', endata)\n",
    "print('\\n中文數據:\\n', chdata)\n",
    "# print('\\n英文字典:\\n', en2id)\n",
    "# print('\\n中文字典共計\\n:', ch2id)\n",
    "\n",
    "\n",
    "# en_vocab = set(''.join(endata))\n",
    "# id2en = list(en_vocab)\n",
    "# en2id = {c:i for i,c in enumerate(id2en)}"
   ]
  }
 ],
 "metadata": {
  "kernelspec": {
   "display_name": "Python 3",
   "language": "python",
   "name": "python3"
  },
  "language_info": {
   "codemirror_mode": {
    "name": "ipython",
    "version": 3
   },
   "file_extension": ".py",
   "mimetype": "text/x-python",
   "name": "python",
   "nbconvert_exporter": "python",
   "pygments_lexer": "ipython3",
   "version": "3.7.6"
  }
 },
 "nbformat": 4,
 "nbformat_minor": 4
}
